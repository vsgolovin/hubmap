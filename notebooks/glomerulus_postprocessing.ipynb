{
 "cells": [
  {
   "cell_type": "code",
   "execution_count": 16,
   "metadata": {},
   "outputs": [],
   "source": [
    "import sys\n",
    "\n",
    "sys.path.append(\"..\")"
   ]
  },
  {
   "cell_type": "code",
   "execution_count": 17,
   "metadata": {},
   "outputs": [],
   "source": [
    "from pathlib import Path\n",
    "import cv2\n",
    "import numpy as np\n",
    "import matplotlib.pyplot as plt\n",
    "import pandas as pd\n",
    "import torch\n",
    "from torchvision.transforms import ToTensor\n",
    "from torchvision.utils import draw_segmentation_masks\n",
    "from tqdm import tqdm\n",
    "from src.data import parse_annotations\n",
    "from src.models import ResUNet"
   ]
  },
  {
   "cell_type": "code",
   "execution_count": 18,
   "metadata": {},
   "outputs": [
    {
     "data": {
      "text/html": [
       "<div>\n",
       "<style scoped>\n",
       "    .dataframe tbody tr th:only-of-type {\n",
       "        vertical-align: middle;\n",
       "    }\n",
       "\n",
       "    .dataframe tbody tr th {\n",
       "        vertical-align: top;\n",
       "    }\n",
       "\n",
       "    .dataframe thead th {\n",
       "        text-align: right;\n",
       "    }\n",
       "</style>\n",
       "<table border=\"1\" class=\"dataframe\">\n",
       "  <thead>\n",
       "    <tr style=\"text-align: right;\">\n",
       "      <th></th>\n",
       "      <th>id</th>\n",
       "      <th>source_wsi</th>\n",
       "      <th>dataset</th>\n",
       "      <th>i</th>\n",
       "      <th>j</th>\n",
       "    </tr>\n",
       "  </thead>\n",
       "  <tbody>\n",
       "    <tr>\n",
       "      <th>0</th>\n",
       "      <td>0006ff2aa7cd</td>\n",
       "      <td>2</td>\n",
       "      <td>2</td>\n",
       "      <td>16896</td>\n",
       "      <td>16420</td>\n",
       "    </tr>\n",
       "    <tr>\n",
       "      <th>1</th>\n",
       "      <td>000e79e206b7</td>\n",
       "      <td>6</td>\n",
       "      <td>3</td>\n",
       "      <td>10240</td>\n",
       "      <td>29184</td>\n",
       "    </tr>\n",
       "    <tr>\n",
       "      <th>2</th>\n",
       "      <td>00168d1b7522</td>\n",
       "      <td>2</td>\n",
       "      <td>2</td>\n",
       "      <td>14848</td>\n",
       "      <td>14884</td>\n",
       "    </tr>\n",
       "    <tr>\n",
       "      <th>3</th>\n",
       "      <td>00176a88fdb0</td>\n",
       "      <td>7</td>\n",
       "      <td>3</td>\n",
       "      <td>14848</td>\n",
       "      <td>25088</td>\n",
       "    </tr>\n",
       "    <tr>\n",
       "      <th>4</th>\n",
       "      <td>0033bbc76b6b</td>\n",
       "      <td>1</td>\n",
       "      <td>1</td>\n",
       "      <td>10240</td>\n",
       "      <td>43008</td>\n",
       "    </tr>\n",
       "  </tbody>\n",
       "</table>\n",
       "</div>"
      ],
      "text/plain": [
       "             id  source_wsi  dataset      i      j\n",
       "0  0006ff2aa7cd           2        2  16896  16420\n",
       "1  000e79e206b7           6        3  10240  29184\n",
       "2  00168d1b7522           2        2  14848  14884\n",
       "3  00176a88fdb0           7        3  14848  25088\n",
       "4  0033bbc76b6b           1        1  10240  43008"
      ]
     },
     "execution_count": 18,
     "metadata": {},
     "output_type": "execute_result"
    }
   ],
   "source": [
    "df = pd.read_csv(\"../data/hubmap/tile_meta.csv\")\n",
    "df.head()"
   ]
  },
  {
   "cell_type": "code",
   "execution_count": 19,
   "metadata": {},
   "outputs": [
    {
     "data": {
      "text/plain": [
       "4       0033bbc76b6b\n",
       "16      00656c6f2690\n",
       "17      0067d5ad2250\n",
       "33      00d75ad65de3\n",
       "34      00da70813521\n",
       "            ...     \n",
       "6844    f86347534ec1\n",
       "6895    faba1bf818ae\n",
       "6933    fc6def641612\n",
       "6951    fd2437954fd8\n",
       "6990    fe248458ea89\n",
       "Name: id, Length: 422, dtype: object"
      ]
     },
     "execution_count": 19,
     "metadata": {},
     "output_type": "execute_result"
    }
   ],
   "source": [
    "image_ids = df.loc[df[\"dataset\"] == 1, \"id\"]\n",
    "image_ids"
   ]
  },
  {
   "cell_type": "code",
   "execution_count": 20,
   "metadata": {},
   "outputs": [
    {
     "data": {
      "text/html": [
       "<div>\n",
       "<style scoped>\n",
       "    .dataframe tbody tr th:only-of-type {\n",
       "        vertical-align: middle;\n",
       "    }\n",
       "\n",
       "    .dataframe tbody tr th {\n",
       "        vertical-align: top;\n",
       "    }\n",
       "\n",
       "    .dataframe thead th {\n",
       "        text-align: right;\n",
       "    }\n",
       "</style>\n",
       "<table border=\"1\" class=\"dataframe\">\n",
       "  <thead>\n",
       "    <tr style=\"text-align: right;\">\n",
       "      <th></th>\n",
       "      <th>annotations</th>\n",
       "    </tr>\n",
       "    <tr>\n",
       "      <th>id</th>\n",
       "      <th></th>\n",
       "    </tr>\n",
       "  </thead>\n",
       "  <tbody>\n",
       "    <tr>\n",
       "      <th>0006ff2aa7cd</th>\n",
       "      <td>[{'type': 'glomerulus', 'coordinates': [[[167,...</td>\n",
       "    </tr>\n",
       "    <tr>\n",
       "      <th>00168d1b7522</th>\n",
       "      <td>[{'type': 'glomerulus', 'coordinates': [[[511,...</td>\n",
       "    </tr>\n",
       "    <tr>\n",
       "      <th>0033bbc76b6b</th>\n",
       "      <td>[{'type': 'blood_vessel', 'coordinates': [[[16...</td>\n",
       "    </tr>\n",
       "    <tr>\n",
       "      <th>003504460b3a</th>\n",
       "      <td>[{'type': 'blood_vessel', 'coordinates': [[[40...</td>\n",
       "    </tr>\n",
       "    <tr>\n",
       "      <th>004daf1cbe75</th>\n",
       "      <td>[{'type': 'blood_vessel', 'coordinates': [[[14...</td>\n",
       "    </tr>\n",
       "  </tbody>\n",
       "</table>\n",
       "</div>"
      ],
      "text/plain": [
       "                                                    annotations\n",
       "id                                                             \n",
       "0006ff2aa7cd  [{'type': 'glomerulus', 'coordinates': [[[167,...\n",
       "00168d1b7522  [{'type': 'glomerulus', 'coordinates': [[[511,...\n",
       "0033bbc76b6b  [{'type': 'blood_vessel', 'coordinates': [[[16...\n",
       "003504460b3a  [{'type': 'blood_vessel', 'coordinates': [[[40...\n",
       "004daf1cbe75  [{'type': 'blood_vessel', 'coordinates': [[[14..."
      ]
     },
     "execution_count": 20,
     "metadata": {},
     "output_type": "execute_result"
    }
   ],
   "source": [
    "polygons = pd.read_json(\"../data/hubmap/polygons.jsonl\", lines=True).set_index(\"id\")\n",
    "polygons.head()"
   ]
  },
  {
   "cell_type": "code",
   "execution_count": 21,
   "metadata": {},
   "outputs": [
    {
     "data": {
      "text/plain": [
       "id\n",
       "0033bbc76b6b    [{'type': 'blood_vessel', 'coordinates': [[[16...\n",
       "00656c6f2690    [{'type': 'blood_vessel', 'coordinates': [[[51...\n",
       "0067d5ad2250    [{'type': 'unsure', 'coordinates': [[[90, 38],...\n",
       "00d75ad65de3    [{'type': 'blood_vessel', 'coordinates': [[[38...\n",
       "00da70813521    [{'type': 'blood_vessel', 'coordinates': [[[37...\n",
       "                                      ...                        \n",
       "f86347534ec1    [{'type': 'blood_vessel', 'coordinates': [[[42...\n",
       "faba1bf818ae    [{'type': 'unsure', 'coordinates': [[[92, 408]...\n",
       "fc6def641612    [{'type': 'blood_vessel', 'coordinates': [[[66...\n",
       "fd2437954fd8    [{'type': 'unsure', 'coordinates': [[[378, 425...\n",
       "fe248458ea89    [{'type': 'blood_vessel', 'coordinates': [[[13...\n",
       "Name: annotations, Length: 422, dtype: object"
      ]
     },
     "execution_count": 21,
     "metadata": {},
     "output_type": "execute_result"
    }
   ],
   "source": [
    "polygons = polygons.loc[image_ids, \"annotations\"]\n",
    "polygons"
   ]
  },
  {
   "cell_type": "code",
   "execution_count": 22,
   "metadata": {},
   "outputs": [],
   "source": [
    "class SegmentationDataset(torch.utils.data.Dataset):\n",
    "    def __init__(self, poly_jsonl: pd.Series, image_dir: str = \"../data/hubmap/train\"):\n",
    "        self.data = poly_jsonl\n",
    "        self.root = Path(image_dir)\n",
    "        self.to_tensor = ToTensor()\n",
    "        assert self.root.exists() and self.root.is_dir()\n",
    "\n",
    "    def __getitem__(self, idx):\n",
    "        image_id = self.data.index[idx]\n",
    "        image_path = self.root / f\"{image_id}.tif\"\n",
    "        image = cv2.imread(str(image_path))\n",
    "        image = cv2.cvtColor(image, cv2.COLOR_BGR2RGB)\n",
    "        image = self.to_tensor(image)\n",
    "\n",
    "        ann = parse_annotations(self.data.iloc[idx], (\"glomerulus\",))\n",
    "        masks = ann[\"glomerulus\"]\n",
    "        if masks.size > 0:\n",
    "            mask = masks.sum(0).clip(0, 1).astype(np.uint8)\n",
    "            mask = torch.tensor(mask, dtype=torch.uint8)\n",
    "        else:\n",
    "            mask = torch.zeros((512, 512), dtype=torch.uint8)\n",
    "\n",
    "        return image, mask\n",
    "\n",
    "    def __len__(self):\n",
    "        return len(self.data)"
   ]
  },
  {
   "cell_type": "code",
   "execution_count": 23,
   "metadata": {},
   "outputs": [],
   "source": [
    "dset = SegmentationDataset(polygons)"
   ]
  },
  {
   "cell_type": "code",
   "execution_count": 24,
   "metadata": {},
   "outputs": [],
   "source": [
    "model = ResUNet(pretrained=False)\n",
    "model.load_state_dict(torch.load(\"../models/cur_best/u-net.pth\"))\n",
    "model = model.to(\"cuda\")\n",
    "model.eval();"
   ]
  },
  {
   "cell_type": "code",
   "execution_count": 25,
   "metadata": {},
   "outputs": [],
   "source": [
    "def process_mask(mask: torch.Tensor) -> torch.Tensor:\n",
    "    assert mask.ndim == 2 and mask.dtype == torch.uint8\n",
    "    mask = mask.detach().cpu().numpy()\n",
    "    kernel = cv2.getStructuringElement(cv2.MORPH_ELLIPSE, (11, 11))\n",
    "    mask = cv2.morphologyEx(mask, cv2.MORPH_OPEN, kernel, iterations=5)\n",
    "    kernel = cv2.getStructuringElement(cv2.MORPH_ELLIPSE, (7, 7))\n",
    "    mask = cv2.morphologyEx(mask, cv2.MORPH_CLOSE, kernel, iterations=20)\n",
    "    return torch.tensor(mask)\n"
   ]
  },
  {
   "cell_type": "code",
   "execution_count": 26,
   "metadata": {},
   "outputs": [
    {
     "name": "stderr",
     "output_type": "stream",
     "text": [
      "100%|██████████| 422/422 [00:29<00:00, 14.38it/s]\n"
     ]
    }
   ],
   "source": [
    "inter_sum = 0\n",
    "union_sum = 0\n",
    "prediction_sum = 0\n",
    "target_sum = 0\n",
    "\n",
    "for image, mask in tqdm(dset):\n",
    "    with torch.no_grad():\n",
    "        image = image.to(\"cuda\")\n",
    "        pred = torch.sigmoid(model(image.unsqueeze(0))[0, 0]).cpu()\n",
    "        pred = pred.round().to(torch.uint8)\n",
    "\n",
    "        pred = process_mask(pred)\n",
    "\n",
    "    pred_b = pred.to(torch.bool)\n",
    "    mask_b = mask.to(torch.bool)\n",
    "    inter_sum += torch.logical_and(pred_b, mask_b).sum()\n",
    "    union_sum += torch.logical_or(pred_b, mask_b).sum()\n",
    "    prediction_sum += pred_b.sum()\n",
    "    target_sum += mask_b.sum()"
   ]
  },
  {
   "cell_type": "code",
   "execution_count": 27,
   "metadata": {},
   "outputs": [
    {
     "name": "stdout",
     "output_type": "stream",
     "text": [
      "IOU: 0.8623385429382324\n",
      "Precision: 0.9767596125602722\n",
      "Recall: 0.8804026246070862\n"
     ]
    }
   ],
   "source": [
    "print(f\"IOU: {inter_sum / union_sum}\")\n",
    "print(f\"Precision: {inter_sum / prediction_sum}\")\n",
    "print(f\"Recall: {inter_sum / target_sum}\")"
   ]
  },
  {
   "cell_type": "markdown",
   "metadata": {},
   "source": [
    "| Processing       |  IOU  | Precision | Recall |\n",
    "|------------------|-------|-----------|--------|\n",
    "| None             | 0.820 |   0.910   |  0.892 |\n",
    "| Closing, 7 x 2   | 0.818 |   0.905   |  0.896 |\n",
    "| Closing, 7 x 10  | 0.796 |   0.868   |  0.906 |\n",
    "| Closing, 7 x 20  | 0.769 |   0.830   |  0.912 |\n",
    "| Closing, 5 x 10  | 0.806 |   0.883   |  0.902 |\n",
    "| Closing, 11 x 2  | 0.815 |   0.897   |  0.899 |\n",
    "| Closing, 11 x 5  | 0.801 |   0.875   |  0.904 |\n",
    "| Closing, 11 x 10 | 0.777 |   0.842   |  0.910 |\n",
    "| Opening, 11 x 5  | 0.858 |   0.984   |  0.871 |\n",
    "| Op. 11x5, Cl. 11x5 | 0.861 | 0.981   |  0.875 |\n",
    "| Op. 13x5, Cl. 13x5 | 0.855 | 0.983   |  0.868 |\n",
    "| Op. 11x5, Cl. 7x10 | 0.862 | 0.981   |  0.876 |\n",
    "| Op. 11x5, Cl. 7x20 | 0.862 | 0.977   |  0.880 |"
   ]
  }
 ],
 "metadata": {
  "kernelspec": {
   "display_name": "main",
   "language": "python",
   "name": "python3"
  },
  "language_info": {
   "codemirror_mode": {
    "name": "ipython",
    "version": 3
   },
   "file_extension": ".py",
   "mimetype": "text/x-python",
   "name": "python",
   "nbconvert_exporter": "python",
   "pygments_lexer": "ipython3",
   "version": "3.10.6"
  },
  "orig_nbformat": 4
 },
 "nbformat": 4,
 "nbformat_minor": 2
}
